{
 "cells": [
  {
   "cell_type": "code",
   "execution_count": 28,
   "id": "bdfbb0bd",
   "metadata": {},
   "outputs": [
    {
     "name": "stdout",
     "output_type": "stream",
     "text": [
      "Best Parameters: {'svc__C': np.float64(100.0), 'svc__gamma': np.float64(0.1), 'svc__kernel': 'rbf'}\n"
     ]
    }
   ],
   "source": [
    "import numpy as np\n",
    "from sklearn.datasets import make_classification\n",
    "from sklearn.model_selection import train_test_split, GridSearchCV\n",
    "from sklearn.svm import SVC\n",
    "from sklearn.preprocessing import StandardScaler\n",
    "from sklearn.pipeline import Pipeline\n",
    "\n",
    "# Step 1: Generate dataset\n",
    "X, y = make_classification(\n",
    "    n_samples=300, n_features=2, n_classes=2, \n",
    "    n_clusters_per_class=2, n_redundant=0, random_state=42\n",
    ")\n",
    "X_train, X_test, y_train, y_test = train_test_split(X, y, test_size=0.3, random_state=42)\n",
    "\n",
    "# Step 2: Define pipeline (MUST use SVC(), not SVC)\n",
    "pipeline = Pipeline([\n",
    "    ('scaler', StandardScaler()),\n",
    "    ('svc', SVC())  # ✅ Must be an INSTANCE\n",
    "])\n",
    "\n",
    "# Step 3: Create param_grid\n",
    "param_grid = [\n",
    "    {\n",
    "        'svc__kernel': ['linear'],\n",
    "        'svc__C': np.logspace(-1, 2, 4)  # [0.1, 1, 10, 100]\n",
    "    },\n",
    "    {\n",
    "        'svc__kernel': ['rbf'],\n",
    "        'svc__C': np.logspace(-1, 2, 4),\n",
    "        'svc__gamma': np.logspace(-4, 0, 5)  # [1e-4, 1e-3, ..., 1]\n",
    "    },\n",
    "    {\n",
    "        'svc__kernel': ['poly'],\n",
    "        'svc__C': np.logspace(-1, 2, 4),\n",
    "        'svc__gamma': ['scale'],\n",
    "        'svc__degree': [2, 3, 4]\n",
    "    },\n",
    "    {\n",
    "        'svc__kernel': ['sigmoid'],\n",
    "        'svc__C': np.logspace(-1, 2, 4),\n",
    "        'svc__gamma': np.logspace(-4, 0, 5)\n",
    "    }\n",
    "]\n",
    "\n",
    "# Step 4: Run GridSearchCV\n",
    "grid = GridSearchCV(estimator=pipeline, param_grid=param_grid, cv=5, n_jobs=-1)\n",
    "grid.fit(X_train, y_train)\n",
    "\n",
    "print(\"Best Parameters:\", grid.best_params_)"
   ]
  },
  {
   "cell_type": "code",
   "execution_count": null,
   "id": "f2030e19",
   "metadata": {},
   "outputs": [],
   "source": []
  }
 ],
 "metadata": {
  "kernelspec": {
   "display_name": "myenv",
   "language": "python",
   "name": "python3"
  },
  "language_info": {
   "codemirror_mode": {
    "name": "ipython",
    "version": 3
   },
   "file_extension": ".py",
   "mimetype": "text/x-python",
   "name": "python",
   "nbconvert_exporter": "python",
   "pygments_lexer": "ipython3",
   "version": "3.12.11"
  }
 },
 "nbformat": 4,
 "nbformat_minor": 5
}
